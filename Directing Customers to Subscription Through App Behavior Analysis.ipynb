{
 "cells": [
  {
   "cell_type": "markdown",
   "id": "01f667da",
   "metadata": {},
   "source": [
    "# Directing Customers to Subscription through App Behavior Analysis"
   ]
  },
  {
   "cell_type": "markdown",
   "id": "3c409f8d",
   "metadata": {},
   "source": [
    "Data Source: https://www.kaggle.com/datasets/nhanguyenuic/fintech-classification-for-app-subsciption "
   ]
  },
  {
   "cell_type": "code",
   "execution_count": 1,
   "id": "e8c75f6c",
   "metadata": {},
   "outputs": [],
   "source": [
    "#Import relevant packages\n",
    "import pandas as pd\n",
    "import numpy as np\n",
    "import matplotlib.pyplot as plt\n",
    "import seaborn as sns\n",
    "from dateutil import parser\n",
    "import os\n",
    "np.random.seed(123)\n",
    "%matplotlib inline"
   ]
  },
  {
   "cell_type": "code",
   "execution_count": 2,
   "id": "0b85623a",
   "metadata": {},
   "outputs": [],
   "source": [
    "#Import Data set\n",
    "dataset = pd.read_csv('FineTech_appData.csv', sep = \",\")"
   ]
  },
  {
   "cell_type": "markdown",
   "id": "29791cf2",
   "metadata": {},
   "source": [
    "### Exploratory Data Analysis"
   ]
  },
  {
   "cell_type": "code",
   "execution_count": 3,
   "id": "27ec6ee1",
   "metadata": {},
   "outputs": [
    {
     "data": {
      "text/html": [
       "<div>\n",
       "<style scoped>\n",
       "    .dataframe tbody tr th:only-of-type {\n",
       "        vertical-align: middle;\n",
       "    }\n",
       "\n",
       "    .dataframe tbody tr th {\n",
       "        vertical-align: top;\n",
       "    }\n",
       "\n",
       "    .dataframe thead th {\n",
       "        text-align: right;\n",
       "    }\n",
       "</style>\n",
       "<table border=\"1\" class=\"dataframe\">\n",
       "  <thead>\n",
       "    <tr style=\"text-align: right;\">\n",
       "      <th></th>\n",
       "      <th>user</th>\n",
       "      <th>first_open</th>\n",
       "      <th>dayofweek</th>\n",
       "      <th>hour</th>\n",
       "      <th>age</th>\n",
       "      <th>screen_list</th>\n",
       "      <th>numscreens</th>\n",
       "      <th>minigame</th>\n",
       "      <th>used_premium_feature</th>\n",
       "      <th>enrolled</th>\n",
       "      <th>enrolled_date</th>\n",
       "      <th>liked</th>\n",
       "    </tr>\n",
       "  </thead>\n",
       "  <tbody>\n",
       "    <tr>\n",
       "      <th>0</th>\n",
       "      <td>235136</td>\n",
       "      <td>2012-12-27 02:14:51.273</td>\n",
       "      <td>3</td>\n",
       "      <td>02:00:00</td>\n",
       "      <td>23</td>\n",
       "      <td>idscreen,joinscreen,Cycle,product_review,ScanP...</td>\n",
       "      <td>15</td>\n",
       "      <td>0</td>\n",
       "      <td>0</td>\n",
       "      <td>0</td>\n",
       "      <td>NaN</td>\n",
       "      <td>0</td>\n",
       "    </tr>\n",
       "    <tr>\n",
       "      <th>1</th>\n",
       "      <td>333588</td>\n",
       "      <td>2012-12-02 01:16:00.905</td>\n",
       "      <td>6</td>\n",
       "      <td>01:00:00</td>\n",
       "      <td>24</td>\n",
       "      <td>joinscreen,product_review,product_review2,Scan...</td>\n",
       "      <td>13</td>\n",
       "      <td>0</td>\n",
       "      <td>0</td>\n",
       "      <td>0</td>\n",
       "      <td>NaN</td>\n",
       "      <td>0</td>\n",
       "    </tr>\n",
       "    <tr>\n",
       "      <th>2</th>\n",
       "      <td>254414</td>\n",
       "      <td>2013-03-19 19:19:09.157</td>\n",
       "      <td>1</td>\n",
       "      <td>19:00:00</td>\n",
       "      <td>23</td>\n",
       "      <td>Splash,Cycle,Loan</td>\n",
       "      <td>3</td>\n",
       "      <td>0</td>\n",
       "      <td>1</td>\n",
       "      <td>0</td>\n",
       "      <td>NaN</td>\n",
       "      <td>1</td>\n",
       "    </tr>\n",
       "    <tr>\n",
       "      <th>3</th>\n",
       "      <td>234192</td>\n",
       "      <td>2013-07-05 16:08:46.354</td>\n",
       "      <td>4</td>\n",
       "      <td>16:00:00</td>\n",
       "      <td>28</td>\n",
       "      <td>product_review,Home,product_review,Loan3,Finan...</td>\n",
       "      <td>40</td>\n",
       "      <td>0</td>\n",
       "      <td>0</td>\n",
       "      <td>1</td>\n",
       "      <td>2013-07-05 16:11:49.513</td>\n",
       "      <td>0</td>\n",
       "    </tr>\n",
       "    <tr>\n",
       "      <th>4</th>\n",
       "      <td>51549</td>\n",
       "      <td>2013-02-26 18:50:48.661</td>\n",
       "      <td>1</td>\n",
       "      <td>18:00:00</td>\n",
       "      <td>31</td>\n",
       "      <td>idscreen,joinscreen,Cycle,Credit3Container,Sca...</td>\n",
       "      <td>32</td>\n",
       "      <td>0</td>\n",
       "      <td>0</td>\n",
       "      <td>1</td>\n",
       "      <td>2013-02-26 18:56:37.841</td>\n",
       "      <td>1</td>\n",
       "    </tr>\n",
       "  </tbody>\n",
       "</table>\n",
       "</div>"
      ],
      "text/plain": [
       "     user               first_open  dayofweek       hour  age  \\\n",
       "0  235136  2012-12-27 02:14:51.273          3   02:00:00   23   \n",
       "1  333588  2012-12-02 01:16:00.905          6   01:00:00   24   \n",
       "2  254414  2013-03-19 19:19:09.157          1   19:00:00   23   \n",
       "3  234192  2013-07-05 16:08:46.354          4   16:00:00   28   \n",
       "4   51549  2013-02-26 18:50:48.661          1   18:00:00   31   \n",
       "\n",
       "                                         screen_list  numscreens  minigame  \\\n",
       "0  idscreen,joinscreen,Cycle,product_review,ScanP...          15         0   \n",
       "1  joinscreen,product_review,product_review2,Scan...          13         0   \n",
       "2                                  Splash,Cycle,Loan           3         0   \n",
       "3  product_review,Home,product_review,Loan3,Finan...          40         0   \n",
       "4  idscreen,joinscreen,Cycle,Credit3Container,Sca...          32         0   \n",
       "\n",
       "   used_premium_feature  enrolled            enrolled_date  liked  \n",
       "0                     0         0                      NaN      0  \n",
       "1                     0         0                      NaN      0  \n",
       "2                     1         0                      NaN      1  \n",
       "3                     0         1  2013-07-05 16:11:49.513      0  \n",
       "4                     0         1  2013-02-26 18:56:37.841      1  "
      ]
     },
     "execution_count": 3,
     "metadata": {},
     "output_type": "execute_result"
    }
   ],
   "source": [
    "dataset.head()"
   ]
  },
  {
   "cell_type": "code",
   "execution_count": 4,
   "id": "61f77fb4",
   "metadata": {},
   "outputs": [
    {
     "data": {
      "text/html": [
       "<div>\n",
       "<style scoped>\n",
       "    .dataframe tbody tr th:only-of-type {\n",
       "        vertical-align: middle;\n",
       "    }\n",
       "\n",
       "    .dataframe tbody tr th {\n",
       "        vertical-align: top;\n",
       "    }\n",
       "\n",
       "    .dataframe thead th {\n",
       "        text-align: right;\n",
       "    }\n",
       "</style>\n",
       "<table border=\"1\" class=\"dataframe\">\n",
       "  <thead>\n",
       "    <tr style=\"text-align: right;\">\n",
       "      <th></th>\n",
       "      <th>user</th>\n",
       "      <th>dayofweek</th>\n",
       "      <th>age</th>\n",
       "      <th>numscreens</th>\n",
       "      <th>minigame</th>\n",
       "      <th>used_premium_feature</th>\n",
       "      <th>enrolled</th>\n",
       "      <th>liked</th>\n",
       "    </tr>\n",
       "  </thead>\n",
       "  <tbody>\n",
       "    <tr>\n",
       "      <th>count</th>\n",
       "      <td>50000.000000</td>\n",
       "      <td>50000.000000</td>\n",
       "      <td>50000.00000</td>\n",
       "      <td>50000.000000</td>\n",
       "      <td>50000.000000</td>\n",
       "      <td>50000.000000</td>\n",
       "      <td>50000.000000</td>\n",
       "      <td>50000.000000</td>\n",
       "    </tr>\n",
       "    <tr>\n",
       "      <th>mean</th>\n",
       "      <td>186889.729900</td>\n",
       "      <td>3.029860</td>\n",
       "      <td>31.72436</td>\n",
       "      <td>21.095900</td>\n",
       "      <td>0.107820</td>\n",
       "      <td>0.172020</td>\n",
       "      <td>0.621480</td>\n",
       "      <td>0.165000</td>\n",
       "    </tr>\n",
       "    <tr>\n",
       "      <th>std</th>\n",
       "      <td>107768.520361</td>\n",
       "      <td>2.031997</td>\n",
       "      <td>10.80331</td>\n",
       "      <td>15.728812</td>\n",
       "      <td>0.310156</td>\n",
       "      <td>0.377402</td>\n",
       "      <td>0.485023</td>\n",
       "      <td>0.371184</td>\n",
       "    </tr>\n",
       "    <tr>\n",
       "      <th>min</th>\n",
       "      <td>13.000000</td>\n",
       "      <td>0.000000</td>\n",
       "      <td>16.00000</td>\n",
       "      <td>1.000000</td>\n",
       "      <td>0.000000</td>\n",
       "      <td>0.000000</td>\n",
       "      <td>0.000000</td>\n",
       "      <td>0.000000</td>\n",
       "    </tr>\n",
       "    <tr>\n",
       "      <th>25%</th>\n",
       "      <td>93526.750000</td>\n",
       "      <td>1.000000</td>\n",
       "      <td>24.00000</td>\n",
       "      <td>10.000000</td>\n",
       "      <td>0.000000</td>\n",
       "      <td>0.000000</td>\n",
       "      <td>0.000000</td>\n",
       "      <td>0.000000</td>\n",
       "    </tr>\n",
       "    <tr>\n",
       "      <th>50%</th>\n",
       "      <td>187193.500000</td>\n",
       "      <td>3.000000</td>\n",
       "      <td>29.00000</td>\n",
       "      <td>18.000000</td>\n",
       "      <td>0.000000</td>\n",
       "      <td>0.000000</td>\n",
       "      <td>1.000000</td>\n",
       "      <td>0.000000</td>\n",
       "    </tr>\n",
       "    <tr>\n",
       "      <th>75%</th>\n",
       "      <td>279984.250000</td>\n",
       "      <td>5.000000</td>\n",
       "      <td>37.00000</td>\n",
       "      <td>28.000000</td>\n",
       "      <td>0.000000</td>\n",
       "      <td>0.000000</td>\n",
       "      <td>1.000000</td>\n",
       "      <td>0.000000</td>\n",
       "    </tr>\n",
       "    <tr>\n",
       "      <th>max</th>\n",
       "      <td>373662.000000</td>\n",
       "      <td>6.000000</td>\n",
       "      <td>101.00000</td>\n",
       "      <td>325.000000</td>\n",
       "      <td>1.000000</td>\n",
       "      <td>1.000000</td>\n",
       "      <td>1.000000</td>\n",
       "      <td>1.000000</td>\n",
       "    </tr>\n",
       "  </tbody>\n",
       "</table>\n",
       "</div>"
      ],
      "text/plain": [
       "                user     dayofweek          age    numscreens      minigame  \\\n",
       "count   50000.000000  50000.000000  50000.00000  50000.000000  50000.000000   \n",
       "mean   186889.729900      3.029860     31.72436     21.095900      0.107820   \n",
       "std    107768.520361      2.031997     10.80331     15.728812      0.310156   \n",
       "min        13.000000      0.000000     16.00000      1.000000      0.000000   \n",
       "25%     93526.750000      1.000000     24.00000     10.000000      0.000000   \n",
       "50%    187193.500000      3.000000     29.00000     18.000000      0.000000   \n",
       "75%    279984.250000      5.000000     37.00000     28.000000      0.000000   \n",
       "max    373662.000000      6.000000    101.00000    325.000000      1.000000   \n",
       "\n",
       "       used_premium_feature      enrolled         liked  \n",
       "count          50000.000000  50000.000000  50000.000000  \n",
       "mean               0.172020      0.621480      0.165000  \n",
       "std                0.377402      0.485023      0.371184  \n",
       "min                0.000000      0.000000      0.000000  \n",
       "25%                0.000000      0.000000      0.000000  \n",
       "50%                0.000000      1.000000      0.000000  \n",
       "75%                0.000000      1.000000      0.000000  \n",
       "max                1.000000      1.000000      1.000000  "
      ]
     },
     "execution_count": 4,
     "metadata": {},
     "output_type": "execute_result"
    }
   ],
   "source": [
    "dataset.describe()"
   ]
  },
  {
   "cell_type": "code",
   "execution_count": 5,
   "id": "ecd607a1",
   "metadata": {},
   "outputs": [],
   "source": [
    "#Day of the week average - 3rd day\n",
    "#Average age is 31 years old\n",
    "#Average number of screens 21\n",
    "#minigame played by 10% of the users\n",
    "#Premium features used by 17% of the users\n",
    "# 62% have enrolled on some app features\n",
    "#17% of the people have liked at least one screen"
   ]
  },
  {
   "cell_type": "code",
   "execution_count": 6,
   "id": "1b08d485",
   "metadata": {},
   "outputs": [],
   "source": [
    "#Data Cleaning - Currently hour is a string, convert it to integer\n",
    "dataset['hour'] = dataset.hour.str.slice(1, 3).astype(int)"
   ]
  },
  {
   "cell_type": "code",
   "execution_count": 7,
   "id": "39bc0413",
   "metadata": {},
   "outputs": [],
   "source": [
    "#Plot histogram\n",
    "dataset2 = dataset.copy().drop(columns = ['user', 'screen_list', 'enrolled_date', 'first_open', 'enrolled']) #Dropping columns that we don't need"
   ]
  },
  {
   "cell_type": "code",
   "execution_count": 8,
   "id": "c471805f",
   "metadata": {},
   "outputs": [
    {
     "data": {
      "text/html": [
       "<div>\n",
       "<style scoped>\n",
       "    .dataframe tbody tr th:only-of-type {\n",
       "        vertical-align: middle;\n",
       "    }\n",
       "\n",
       "    .dataframe tbody tr th {\n",
       "        vertical-align: top;\n",
       "    }\n",
       "\n",
       "    .dataframe thead th {\n",
       "        text-align: right;\n",
       "    }\n",
       "</style>\n",
       "<table border=\"1\" class=\"dataframe\">\n",
       "  <thead>\n",
       "    <tr style=\"text-align: right;\">\n",
       "      <th></th>\n",
       "      <th>dayofweek</th>\n",
       "      <th>hour</th>\n",
       "      <th>age</th>\n",
       "      <th>numscreens</th>\n",
       "      <th>minigame</th>\n",
       "      <th>used_premium_feature</th>\n",
       "      <th>liked</th>\n",
       "    </tr>\n",
       "  </thead>\n",
       "  <tbody>\n",
       "    <tr>\n",
       "      <th>0</th>\n",
       "      <td>3</td>\n",
       "      <td>2</td>\n",
       "      <td>23</td>\n",
       "      <td>15</td>\n",
       "      <td>0</td>\n",
       "      <td>0</td>\n",
       "      <td>0</td>\n",
       "    </tr>\n",
       "    <tr>\n",
       "      <th>1</th>\n",
       "      <td>6</td>\n",
       "      <td>1</td>\n",
       "      <td>24</td>\n",
       "      <td>13</td>\n",
       "      <td>0</td>\n",
       "      <td>0</td>\n",
       "      <td>0</td>\n",
       "    </tr>\n",
       "    <tr>\n",
       "      <th>2</th>\n",
       "      <td>1</td>\n",
       "      <td>19</td>\n",
       "      <td>23</td>\n",
       "      <td>3</td>\n",
       "      <td>0</td>\n",
       "      <td>1</td>\n",
       "      <td>1</td>\n",
       "    </tr>\n",
       "    <tr>\n",
       "      <th>3</th>\n",
       "      <td>4</td>\n",
       "      <td>16</td>\n",
       "      <td>28</td>\n",
       "      <td>40</td>\n",
       "      <td>0</td>\n",
       "      <td>0</td>\n",
       "      <td>0</td>\n",
       "    </tr>\n",
       "    <tr>\n",
       "      <th>4</th>\n",
       "      <td>1</td>\n",
       "      <td>18</td>\n",
       "      <td>31</td>\n",
       "      <td>32</td>\n",
       "      <td>0</td>\n",
       "      <td>0</td>\n",
       "      <td>1</td>\n",
       "    </tr>\n",
       "  </tbody>\n",
       "</table>\n",
       "</div>"
      ],
      "text/plain": [
       "   dayofweek  hour  age  numscreens  minigame  used_premium_feature  liked\n",
       "0          3     2   23          15         0                     0      0\n",
       "1          6     1   24          13         0                     0      0\n",
       "2          1    19   23           3         0                     1      1\n",
       "3          4    16   28          40         0                     0      0\n",
       "4          1    18   31          32         0                     0      1"
      ]
     },
     "execution_count": 8,
     "metadata": {},
     "output_type": "execute_result"
    }
   ],
   "source": [
    "dataset2.head()"
   ]
  },
  {
   "cell_type": "code",
   "execution_count": 9,
   "id": "cbcf1164",
   "metadata": {},
   "outputs": [
    {
     "data": {
      "image/png": "[encoded data removed]",
      "text/plain": [
       "<Figure size 1440x1440 with 9 Axes>"
      ]
     },
     "metadata": {
      "needs_background": "light"
     },
     "output_type": "display_data"
    }
   ],
   "source": [
    "#Plot histograms to understand the distribution of the features\n",
    "\n",
    "dataset2.hist(bins = 20, figsize = (20, 20), color = 'g')\n",
    "\n",
    "\n",
    "plt.show()"
   ]
  },
  {
   "cell_type": "code",
   "execution_count": 10,
   "id": "b5fc31fd",
   "metadata": {},
   "outputs": [],
   "source": [
    "#day of the week: even distribution\n",
    "#hour: Dip in hour around 10 (utc hours)\n",
    "#Age: evenly distrubuted (there are some jumps in 29-30, 41 and 51)\n",
    "#numscreens: evenly distributed\n",
    "#minigame: most poeple haven't played it (0)\n",
    "#premium feature: most people have not used the premium feature\n",
    "#liked: most people haven't liked premium feature since they haven't used it."
   ]
  },
  {
   "cell_type": "code",
   "execution_count": 11,
   "id": "4ab40604",
   "metadata": {},
   "outputs": [
    {
     "data": {
      "image/png": "[encoded data removed]",
      "text/plain": [
       "<Figure size 1440x720 with 1 Axes>"
      ]
     },
     "metadata": {
      "needs_background": "light"
     },
     "output_type": "display_data"
    }
   ],
   "source": [
    "#Correlation plot with the Response feature to understand how independent feature effects the response variable (enrolled)\n",
    "dataset2.corrwith(dataset.enrolled).plot.bar(figsize = (20, 10),\n",
    "                                            title = 'Correlation with response Variable',\n",
    "                                            fontsize = 15, rot = 45,\n",
    "                                            grid = True)\n",
    "\n",
    "plt.show()"
   ]
  },
  {
   "cell_type": "code",
   "execution_count": 12,
   "id": "0c0232c3",
   "metadata": {},
   "outputs": [],
   "source": [
    "#day of the week is positively correlated - not a big relation\n",
    "# hour is negatively correlated - the earlier the hour the less likely to enroll\n",
    "#Age - the older the person the less lilely to enroll\n",
    "#numscreens - positively correlated - more screens you have seen more engagement there is\n",
    "#minigame - positively correlated, the more games user plays, the more likely they are to enroll\n",
    "#User premium feature is negatively correlated to the response variable."
   ]
  },
  {
   "cell_type": "code",
   "execution_count": 13,
   "id": "e920f744",
   "metadata": {
    "scrolled": false
   },
   "outputs": [],
   "source": [
    "#Exploring Correlations\n",
    "correlations = dataset2.corr()\n"
   ]
  },
  {
   "cell_type": "code",
   "execution_count": 14,
   "id": "81ea857e",
   "metadata": {},
   "outputs": [
    {
     "data": {
      "image/png": "[encoded data removed]",
      "text/plain": [
       "<Figure size 1080x1080 with 2 Axes>"
      ]
     },
     "metadata": {
      "needs_background": "light"
     },
     "output_type": "display_data"
    }
   ],
   "source": [
    "#Create a heatmap with the correlation matrix\n",
    "fig, ax = plt.subplots(figsize = (15,15)) #Create figure and axis with specific size.\n",
    "sns.heatmap(correlations, annot = True) # Create heatmap with annotations\n",
    "plt.show()"
   ]
  },
  {
   "cell_type": "markdown",
   "id": "1440d243",
   "metadata": {},
   "source": [
    "### Feature Engineering"
   ]
  },
  {
   "cell_type": "code",
   "execution_count": 15,
   "id": "440ada16",
   "metadata": {},
   "outputs": [],
   "source": [
    "#Let's look at the response variable"
   ]
  },
  {
   "cell_type": "code",
   "execution_count": 16,
   "id": "2d0e37f9",
   "metadata": {},
   "outputs": [
    {
     "data": {
      "text/plain": [
       "user                     int64\n",
       "first_open              object\n",
       "dayofweek                int64\n",
       "hour                     int32\n",
       "age                      int64\n",
       "screen_list             object\n",
       "numscreens               int64\n",
       "minigame                 int64\n",
       "used_premium_feature     int64\n",
       "enrolled                 int64\n",
       "enrolled_date           object\n",
       "liked                    int64\n",
       "dtype: object"
      ]
     },
     "execution_count": 16,
     "metadata": {},
     "output_type": "execute_result"
    }
   ],
   "source": [
    "#Let's start by looking at the data types\n",
    "dataset.dtypes"
   ]
  },
  {
   "cell_type": "code",
   "execution_count": 17,
   "id": "e2a958f7",
   "metadata": {},
   "outputs": [],
   "source": [
    "#parse the hours into date time object\n",
    "dataset['first_open'] = [parser.parse(row_data) for row_data in dataset['first_open']]\n",
    "\n"
   ]
  },
  {
   "cell_type": "code",
   "execution_count": 18,
   "id": "b9b6b986",
   "metadata": {},
   "outputs": [],
   "source": [
    "#Parse the enrolled date column into datetime object - if row has values, then  perform row data function, otherwise skip\n",
    "dataset['enrolled_date'] = [parser.parse(row_data) if isinstance(row_data, str) else row_data for row_data in dataset['enrolled_date']]"
   ]
  },
  {
   "cell_type": "code",
   "execution_count": 19,
   "id": "5810dde3",
   "metadata": {},
   "outputs": [
    {
     "data": {
      "text/plain": [
       "user                             int64\n",
       "first_open              datetime64[ns]\n",
       "dayofweek                        int64\n",
       "hour                             int32\n",
       "age                              int64\n",
       "screen_list                     object\n",
       "numscreens                       int64\n",
       "minigame                         int64\n",
       "used_premium_feature             int64\n",
       "enrolled                         int64\n",
       "enrolled_date           datetime64[ns]\n",
       "liked                            int64\n",
       "dtype: object"
      ]
     },
     "execution_count": 19,
     "metadata": {},
     "output_type": "execute_result"
    }
   ],
   "source": [
    "dataset.dtypes"
   ]
  },
  {
   "cell_type": "code",
   "execution_count": 20,
   "id": "bfe709df",
   "metadata": {},
   "outputs": [],
   "source": [
    "#Now I create a new column called difference to calculate the difference between enrolled date and date first opened and convert the values into timedelta of hours, to get the values in hours\n",
    "dataset['difference'] = (dataset.enrolled_date - dataset.first_open).astype('timedelta64[h]')\n"
   ]
  },
  {
   "cell_type": "code",
   "execution_count": 21,
   "id": "aa0c4423",
   "metadata": {},
   "outputs": [
    {
     "data": {
      "image/png": "[encoded data removed]",
      "text/plain": [
       "<Figure size 432x288 with 1 Axes>"
      ]
     },
     "metadata": {
      "needs_background": "light"
     },
     "output_type": "display_data"
    }
   ],
   "source": [
    "#Quickly plot the difference column to select the best time for cutoff time for the response variable\n",
    "plt.hist(dataset['difference'].dropna(), color = '#3F5D7D')\n",
    "plt.title('Distribution of Time-Since-Enrolled')\n",
    "plt.show()"
   ]
  },
  {
   "cell_type": "code",
   "execution_count": 22,
   "id": "ef84edd8",
   "metadata": {},
   "outputs": [],
   "source": [
    "#From the distribution of the histogram, I can see that majority of the people enroll within the first 500 hours.\n",
    "#Let's take a look at the range between 0-100. "
   ]
  },
  {
   "cell_type": "code",
   "execution_count": 23,
   "id": "115760d0",
   "metadata": {},
   "outputs": [
    {
     "data": {
      "image/png": "[encoded data removed]",
      "text/plain": [
       "<Figure size 432x288 with 1 Axes>"
      ]
     },
     "metadata": {
      "needs_background": "light"
     },
     "output_type": "display_data"
    }
   ],
   "source": [
    "#Quickly plot the difference column to select the best time for cutoff time for the response variable\n",
    "plt.hist(dataset['difference'].dropna(), color = '#3F5D7D', range = [0, 100])\n",
    "plt.title('Distribution of Time-Since-Enrolled')\n",
    "plt.show()"
   ]
  },
  {
   "cell_type": "code",
   "execution_count": 24,
   "id": "f4b1be8b",
   "metadata": {},
   "outputs": [],
   "source": [
    "#From the plot it seems like most people enroll within the first 10 hours. The distribution is also right skewed. let's take 48 hours as cutoff."
   ]
  },
  {
   "cell_type": "code",
   "execution_count": 25,
   "id": "ad7850cf",
   "metadata": {},
   "outputs": [],
   "source": [
    "#in the difference column, if the difference is more than 48 hours and they are enrolled, we set them as 0.\n",
    "dataset.loc[dataset.difference > 48, 'enrolled'] = 0"
   ]
  },
  {
   "cell_type": "code",
   "execution_count": 26,
   "id": "0e9ddb20",
   "metadata": {},
   "outputs": [],
   "source": [
    "#Drop the columns that we no longer need\n",
    "dataset = dataset.drop(columns = ['difference', 'enrolled_date', 'first_open'])"
   ]
  },
  {
   "cell_type": "code",
   "execution_count": 27,
   "id": "cbafea6e",
   "metadata": {},
   "outputs": [
    {
     "data": {
      "text/html": [
       "<div>\n",
       "<style scoped>\n",
       "    .dataframe tbody tr th:only-of-type {\n",
       "        vertical-align: middle;\n",
       "    }\n",
       "\n",
       "    .dataframe tbody tr th {\n",
       "        vertical-align: top;\n",
       "    }\n",
       "\n",
       "    .dataframe thead th {\n",
       "        text-align: right;\n",
       "    }\n",
       "</style>\n",
       "<table border=\"1\" class=\"dataframe\">\n",
       "  <thead>\n",
       "    <tr style=\"text-align: right;\">\n",
       "      <th></th>\n",
       "      <th>user</th>\n",
       "      <th>dayofweek</th>\n",
       "      <th>hour</th>\n",
       "      <th>age</th>\n",
       "      <th>screen_list</th>\n",
       "      <th>numscreens</th>\n",
       "      <th>minigame</th>\n",
       "      <th>used_premium_feature</th>\n",
       "      <th>enrolled</th>\n",
       "      <th>liked</th>\n",
       "    </tr>\n",
       "  </thead>\n",
       "  <tbody>\n",
       "    <tr>\n",
       "      <th>0</th>\n",
       "      <td>235136</td>\n",
       "      <td>3</td>\n",
       "      <td>2</td>\n",
       "      <td>23</td>\n",
       "      <td>idscreen,joinscreen,Cycle,product_review,ScanP...</td>\n",
       "      <td>15</td>\n",
       "      <td>0</td>\n",
       "      <td>0</td>\n",
       "      <td>0</td>\n",
       "      <td>0</td>\n",
       "    </tr>\n",
       "    <tr>\n",
       "      <th>1</th>\n",
       "      <td>333588</td>\n",
       "      <td>6</td>\n",
       "      <td>1</td>\n",
       "      <td>24</td>\n",
       "      <td>joinscreen,product_review,product_review2,Scan...</td>\n",
       "      <td>13</td>\n",
       "      <td>0</td>\n",
       "      <td>0</td>\n",
       "      <td>0</td>\n",
       "      <td>0</td>\n",
       "    </tr>\n",
       "    <tr>\n",
       "      <th>2</th>\n",
       "      <td>254414</td>\n",
       "      <td>1</td>\n",
       "      <td>19</td>\n",
       "      <td>23</td>\n",
       "      <td>Splash,Cycle,Loan</td>\n",
       "      <td>3</td>\n",
       "      <td>0</td>\n",
       "      <td>1</td>\n",
       "      <td>0</td>\n",
       "      <td>1</td>\n",
       "    </tr>\n",
       "    <tr>\n",
       "      <th>3</th>\n",
       "      <td>234192</td>\n",
       "      <td>4</td>\n",
       "      <td>16</td>\n",
       "      <td>28</td>\n",
       "      <td>product_review,Home,product_review,Loan3,Finan...</td>\n",
       "      <td>40</td>\n",
       "      <td>0</td>\n",
       "      <td>0</td>\n",
       "      <td>1</td>\n",
       "      <td>0</td>\n",
       "    </tr>\n",
       "    <tr>\n",
       "      <th>4</th>\n",
       "      <td>51549</td>\n",
       "      <td>1</td>\n",
       "      <td>18</td>\n",
       "      <td>31</td>\n",
       "      <td>idscreen,joinscreen,Cycle,Credit3Container,Sca...</td>\n",
       "      <td>32</td>\n",
       "      <td>0</td>\n",
       "      <td>0</td>\n",
       "      <td>1</td>\n",
       "      <td>1</td>\n",
       "    </tr>\n",
       "  </tbody>\n",
       "</table>\n",
       "</div>"
      ],
      "text/plain": [
       "     user  dayofweek  hour  age  \\\n",
       "0  235136          3     2   23   \n",
       "1  333588          6     1   24   \n",
       "2  254414          1    19   23   \n",
       "3  234192          4    16   28   \n",
       "4   51549          1    18   31   \n",
       "\n",
       "                                         screen_list  numscreens  minigame  \\\n",
       "0  idscreen,joinscreen,Cycle,product_review,ScanP...          15         0   \n",
       "1  joinscreen,product_review,product_review2,Scan...          13         0   \n",
       "2                                  Splash,Cycle,Loan           3         0   \n",
       "3  product_review,Home,product_review,Loan3,Finan...          40         0   \n",
       "4  idscreen,joinscreen,Cycle,Credit3Container,Sca...          32         0   \n",
       "\n",
       "   used_premium_feature  enrolled  liked  \n",
       "0                     0         0      0  \n",
       "1                     0         0      0  \n",
       "2                     1         0      1  \n",
       "3                     0         1      0  \n",
       "4                     0         1      1  "
      ]
     },
     "execution_count": 27,
     "metadata": {},
     "output_type": "execute_result"
    }
   ],
   "source": [
    "dataset.head()"
   ]
  },
  {
   "cell_type": "code",
   "execution_count": 28,
   "id": "390801c9",
   "metadata": {},
   "outputs": [],
   "source": [
    "#Let's look at the screens feature"
   ]
  },
  {
   "cell_type": "code",
   "execution_count": 29,
   "id": "ca212783",
   "metadata": {},
   "outputs": [],
   "source": [
    "#Screen list has comma seperated values. A second data set gives a list of most popular screens\n",
    "top_screens = pd.read_csv('top_screens.csv', sep = \",\").top_screens.values\n"
   ]
  },
  {
   "cell_type": "code",
   "execution_count": 30,
   "id": "f11663e4",
   "metadata": {},
   "outputs": [],
   "source": [
    "#Let's create columns for popular screens and let's create another column for the counts\n",
    "\n",
    "dataset['screen_list'] = dataset.screen_list.astype(str) + ','\n",
    "\n",
    "for sc in top_screens:\n",
    "    dataset[sc] = dataset.screen_list.str.contains(sc).astype(int)\n",
    "    dataset['screen_list'] = dataset.screen_list.str.replace(sc+\",\", \"\")"
   ]
  },
  {
   "cell_type": "code",
   "execution_count": 31,
   "id": "bce9f2fc",
   "metadata": {},
   "outputs": [],
   "source": [
    "#Create a column called 'other' - it will indicate how many left over screens there are\n",
    "\n",
    "dataset['Other'] = dataset.screen_list.str.count(\",\")\n",
    "dataset = dataset.drop(columns = ['screen_list'])"
   ]
  },
  {
   "cell_type": "code",
   "execution_count": 32,
   "id": "db995438",
   "metadata": {},
   "outputs": [],
   "source": [
    "#Create Funnels - a group of screens that belongs to the same set (screens)\n",
    "\n",
    "savings_screens = ['Saving1', 'Saving2', 'Saving2Amount', \n",
    "                   'Saving4', 'Saving5', 'Saving6', 'Saving7',\n",
    "                   'Saving8', 'Saving9', 'Saving10']"
   ]
  },
  {
   "cell_type": "code",
   "execution_count": 33,
   "id": "2c52254f",
   "metadata": {},
   "outputs": [],
   "source": [
    "#Dataset\n",
    "dataset['SavingsCount'] = dataset[savings_screens].sum(axis = 1) # Counts columns that have these names and sums them all up"
   ]
  },
  {
   "cell_type": "code",
   "execution_count": 34,
   "id": "9438a81d",
   "metadata": {},
   "outputs": [],
   "source": [
    "#Drop the columns with saving screens\n",
    "dataset = dataset.drop(columns = savings_screens)"
   ]
  },
  {
   "cell_type": "code",
   "execution_count": 35,
   "id": "ed082348",
   "metadata": {},
   "outputs": [],
   "source": [
    "#Now create funnels for other pages for CM Screens, CC screens and Loan screens\n",
    "#CM Screens (Credit Monitoring Screens)\n",
    "cm_screens = ['Credit1', 'Credit2', 'Credit3',\n",
    "             'Credit3Container', 'Credit3Dashboard']\n",
    "\n",
    "dataset['CMCount'] = dataset[cm_screens].sum(axis = 1)\n",
    "dataset = dataset.drop(columns = cm_screens)"
   ]
  },
  {
   "cell_type": "code",
   "execution_count": 36,
   "id": "53c8f0ff",
   "metadata": {},
   "outputs": [],
   "source": [
    "#Now create funnels for other pages for CM Screens, CC screens and Loan screens\n",
    "#CC Screens (Credit Card Screens)\n",
    "cc_screens = ['CC1', 'CC1Category', 'CC3']\n",
    "\n",
    "dataset['CCCount'] = dataset[cc_screens].sum(axis = 1)\n",
    "dataset = dataset.drop(columns = cc_screens)"
   ]
  },
  {
   "cell_type": "code",
   "execution_count": 37,
   "id": "8902ffc5",
   "metadata": {},
   "outputs": [],
   "source": [
    "#Now create funnels for other pages for CM Screens, CC screens and Loan screens\n",
    "#Loan Screens (Loan Screens)\n",
    "loan_screens = ['Loan', 'Loan2', 'Loan3', 'Loan4']\n",
    "\n",
    "dataset['LoansCount'] = dataset[loan_screens].sum(axis = 1)\n",
    "datasaet = dataset.drop(columns = loan_screens)"
   ]
  },
  {
   "cell_type": "markdown",
   "id": "9a666a13",
   "metadata": {},
   "source": [
    "I do this because these screens will be strongly correlated and I don't want correlated fields in the dataset"
   ]
  },
  {
   "cell_type": "code",
   "execution_count": 38,
   "id": "3edbba46",
   "metadata": {},
   "outputs": [
    {
     "data": {
      "text/html": [
       "<div>\n",
       "<style scoped>\n",
       "    .dataframe tbody tr th:only-of-type {\n",
       "        vertical-align: middle;\n",
       "    }\n",
       "\n",
       "    .dataframe tbody tr th {\n",
       "        vertical-align: top;\n",
       "    }\n",
       "\n",
       "    .dataframe thead th {\n",
       "        text-align: right;\n",
       "    }\n",
       "</style>\n",
       "<table border=\"1\" class=\"dataframe\">\n",
       "  <thead>\n",
       "    <tr style=\"text-align: right;\">\n",
       "      <th></th>\n",
       "      <th>user</th>\n",
       "      <th>dayofweek</th>\n",
       "      <th>hour</th>\n",
       "      <th>age</th>\n",
       "      <th>numscreens</th>\n",
       "      <th>minigame</th>\n",
       "      <th>used_premium_feature</th>\n",
       "      <th>enrolled</th>\n",
       "      <th>liked</th>\n",
       "      <th>Loan2</th>\n",
       "      <th>...</th>\n",
       "      <th>Loan4</th>\n",
       "      <th>ResendToken</th>\n",
       "      <th>TransactionList</th>\n",
       "      <th>NetworkFailure</th>\n",
       "      <th>ListPicker</th>\n",
       "      <th>Other</th>\n",
       "      <th>SavingsCount</th>\n",
       "      <th>CMCount</th>\n",
       "      <th>CCCount</th>\n",
       "      <th>LoansCount</th>\n",
       "    </tr>\n",
       "  </thead>\n",
       "  <tbody>\n",
       "    <tr>\n",
       "      <th>0</th>\n",
       "      <td>235136</td>\n",
       "      <td>3</td>\n",
       "      <td>2</td>\n",
       "      <td>23</td>\n",
       "      <td>15</td>\n",
       "      <td>0</td>\n",
       "      <td>0</td>\n",
       "      <td>0</td>\n",
       "      <td>0</td>\n",
       "      <td>1</td>\n",
       "      <td>...</td>\n",
       "      <td>0</td>\n",
       "      <td>0</td>\n",
       "      <td>0</td>\n",
       "      <td>0</td>\n",
       "      <td>0</td>\n",
       "      <td>7</td>\n",
       "      <td>0</td>\n",
       "      <td>0</td>\n",
       "      <td>0</td>\n",
       "      <td>1</td>\n",
       "    </tr>\n",
       "    <tr>\n",
       "      <th>1</th>\n",
       "      <td>333588</td>\n",
       "      <td>6</td>\n",
       "      <td>1</td>\n",
       "      <td>24</td>\n",
       "      <td>13</td>\n",
       "      <td>0</td>\n",
       "      <td>0</td>\n",
       "      <td>0</td>\n",
       "      <td>0</td>\n",
       "      <td>1</td>\n",
       "      <td>...</td>\n",
       "      <td>0</td>\n",
       "      <td>0</td>\n",
       "      <td>0</td>\n",
       "      <td>0</td>\n",
       "      <td>0</td>\n",
       "      <td>5</td>\n",
       "      <td>0</td>\n",
       "      <td>0</td>\n",
       "      <td>0</td>\n",
       "      <td>1</td>\n",
       "    </tr>\n",
       "    <tr>\n",
       "      <th>2</th>\n",
       "      <td>254414</td>\n",
       "      <td>1</td>\n",
       "      <td>19</td>\n",
       "      <td>23</td>\n",
       "      <td>3</td>\n",
       "      <td>0</td>\n",
       "      <td>1</td>\n",
       "      <td>0</td>\n",
       "      <td>1</td>\n",
       "      <td>0</td>\n",
       "      <td>...</td>\n",
       "      <td>0</td>\n",
       "      <td>0</td>\n",
       "      <td>0</td>\n",
       "      <td>0</td>\n",
       "      <td>0</td>\n",
       "      <td>0</td>\n",
       "      <td>0</td>\n",
       "      <td>0</td>\n",
       "      <td>0</td>\n",
       "      <td>1</td>\n",
       "    </tr>\n",
       "    <tr>\n",
       "      <th>3</th>\n",
       "      <td>234192</td>\n",
       "      <td>4</td>\n",
       "      <td>16</td>\n",
       "      <td>28</td>\n",
       "      <td>40</td>\n",
       "      <td>0</td>\n",
       "      <td>0</td>\n",
       "      <td>1</td>\n",
       "      <td>0</td>\n",
       "      <td>0</td>\n",
       "      <td>...</td>\n",
       "      <td>0</td>\n",
       "      <td>0</td>\n",
       "      <td>0</td>\n",
       "      <td>0</td>\n",
       "      <td>0</td>\n",
       "      <td>6</td>\n",
       "      <td>0</td>\n",
       "      <td>3</td>\n",
       "      <td>0</td>\n",
       "      <td>1</td>\n",
       "    </tr>\n",
       "    <tr>\n",
       "      <th>4</th>\n",
       "      <td>51549</td>\n",
       "      <td>1</td>\n",
       "      <td>18</td>\n",
       "      <td>31</td>\n",
       "      <td>32</td>\n",
       "      <td>0</td>\n",
       "      <td>0</td>\n",
       "      <td>1</td>\n",
       "      <td>1</td>\n",
       "      <td>1</td>\n",
       "      <td>...</td>\n",
       "      <td>0</td>\n",
       "      <td>0</td>\n",
       "      <td>0</td>\n",
       "      <td>0</td>\n",
       "      <td>0</td>\n",
       "      <td>10</td>\n",
       "      <td>0</td>\n",
       "      <td>2</td>\n",
       "      <td>0</td>\n",
       "      <td>1</td>\n",
       "    </tr>\n",
       "  </tbody>\n",
       "</table>\n",
       "<p>5 rows × 54 columns</p>\n",
       "</div>"
      ],
      "text/plain": [
       "     user  dayofweek  hour  age  numscreens  minigame  used_premium_feature  \\\n",
       "0  235136          3     2   23          15         0                     0   \n",
       "1  333588          6     1   24          13         0                     0   \n",
       "2  254414          1    19   23           3         0                     1   \n",
       "3  234192          4    16   28          40         0                     0   \n",
       "4   51549          1    18   31          32         0                     0   \n",
       "\n",
       "   enrolled  liked  Loan2  ...  Loan4  ResendToken  TransactionList  \\\n",
       "0         0      0      1  ...      0            0                0   \n",
       "1         0      0      1  ...      0            0                0   \n",
       "2         0      1      0  ...      0            0                0   \n",
       "3         1      0      0  ...      0            0                0   \n",
       "4         1      1      1  ...      0            0                0   \n",
       "\n",
       "   NetworkFailure  ListPicker  Other  SavingsCount  CMCount  CCCount  \\\n",
       "0               0           0      7             0        0        0   \n",
       "1               0           0      5             0        0        0   \n",
       "2               0           0      0             0        0        0   \n",
       "3               0           0      6             0        3        0   \n",
       "4               0           0     10             0        2        0   \n",
       "\n",
       "   LoansCount  \n",
       "0           1  \n",
       "1           1  \n",
       "2           1  \n",
       "3           1  \n",
       "4           1  \n",
       "\n",
       "[5 rows x 54 columns]"
      ]
     },
     "execution_count": 38,
     "metadata": {},
     "output_type": "execute_result"
    }
   ],
   "source": [
    "#Take a look at the head\n",
    "dataset.head()"
   ]
  },
  {
   "cell_type": "code",
   "execution_count": 39,
   "id": "a01f6f21",
   "metadata": {},
   "outputs": [
    {
     "data": {
      "text/html": [
       "<div>\n",
       "<style scoped>\n",
       "    .dataframe tbody tr th:only-of-type {\n",
       "        vertical-align: middle;\n",
       "    }\n",
       "\n",
       "    .dataframe tbody tr th {\n",
       "        vertical-align: top;\n",
       "    }\n",
       "\n",
       "    .dataframe thead th {\n",
       "        text-align: right;\n",
       "    }\n",
       "</style>\n",
       "<table border=\"1\" class=\"dataframe\">\n",
       "  <thead>\n",
       "    <tr style=\"text-align: right;\">\n",
       "      <th></th>\n",
       "      <th>user</th>\n",
       "      <th>dayofweek</th>\n",
       "      <th>hour</th>\n",
       "      <th>age</th>\n",
       "      <th>numscreens</th>\n",
       "      <th>minigame</th>\n",
       "      <th>used_premium_feature</th>\n",
       "      <th>enrolled</th>\n",
       "      <th>liked</th>\n",
       "      <th>Loan2</th>\n",
       "      <th>...</th>\n",
       "      <th>Loan4</th>\n",
       "      <th>ResendToken</th>\n",
       "      <th>TransactionList</th>\n",
       "      <th>NetworkFailure</th>\n",
       "      <th>ListPicker</th>\n",
       "      <th>Other</th>\n",
       "      <th>SavingsCount</th>\n",
       "      <th>CMCount</th>\n",
       "      <th>CCCount</th>\n",
       "      <th>LoansCount</th>\n",
       "    </tr>\n",
       "  </thead>\n",
       "  <tbody>\n",
       "    <tr>\n",
       "      <th>count</th>\n",
       "      <td>50000.000000</td>\n",
       "      <td>50000.000000</td>\n",
       "      <td>50000.000000</td>\n",
       "      <td>50000.00000</td>\n",
       "      <td>50000.000000</td>\n",
       "      <td>50000.000000</td>\n",
       "      <td>50000.000000</td>\n",
       "      <td>50000.000000</td>\n",
       "      <td>50000.000000</td>\n",
       "      <td>50000.000000</td>\n",
       "      <td>...</td>\n",
       "      <td>50000.000000</td>\n",
       "      <td>50000.000000</td>\n",
       "      <td>50000.000000</td>\n",
       "      <td>50000.000000</td>\n",
       "      <td>50000.000000</td>\n",
       "      <td>50000.000000</td>\n",
       "      <td>50000.000000</td>\n",
       "      <td>50000.00000</td>\n",
       "      <td>50000.000000</td>\n",
       "      <td>50000.000000</td>\n",
       "    </tr>\n",
       "    <tr>\n",
       "      <th>mean</th>\n",
       "      <td>186889.729900</td>\n",
       "      <td>3.029860</td>\n",
       "      <td>12.557220</td>\n",
       "      <td>31.72436</td>\n",
       "      <td>21.095900</td>\n",
       "      <td>0.107820</td>\n",
       "      <td>0.172020</td>\n",
       "      <td>0.497000</td>\n",
       "      <td>0.165000</td>\n",
       "      <td>0.506380</td>\n",
       "      <td>...</td>\n",
       "      <td>0.016180</td>\n",
       "      <td>0.013340</td>\n",
       "      <td>0.013400</td>\n",
       "      <td>0.008200</td>\n",
       "      <td>0.007580</td>\n",
       "      <td>6.214260</td>\n",
       "      <td>0.365020</td>\n",
       "      <td>0.92776</td>\n",
       "      <td>0.176860</td>\n",
       "      <td>0.788400</td>\n",
       "    </tr>\n",
       "    <tr>\n",
       "      <th>std</th>\n",
       "      <td>107768.520361</td>\n",
       "      <td>2.031997</td>\n",
       "      <td>7.438072</td>\n",
       "      <td>10.80331</td>\n",
       "      <td>15.728812</td>\n",
       "      <td>0.310156</td>\n",
       "      <td>0.377402</td>\n",
       "      <td>0.499996</td>\n",
       "      <td>0.371184</td>\n",
       "      <td>0.499964</td>\n",
       "      <td>...</td>\n",
       "      <td>0.126169</td>\n",
       "      <td>0.114727</td>\n",
       "      <td>0.114981</td>\n",
       "      <td>0.090183</td>\n",
       "      <td>0.086733</td>\n",
       "      <td>3.672561</td>\n",
       "      <td>1.405511</td>\n",
       "      <td>1.21751</td>\n",
       "      <td>0.612787</td>\n",
       "      <td>0.677462</td>\n",
       "    </tr>\n",
       "    <tr>\n",
       "      <th>min</th>\n",
       "      <td>13.000000</td>\n",
       "      <td>0.000000</td>\n",
       "      <td>0.000000</td>\n",
       "      <td>16.00000</td>\n",
       "      <td>1.000000</td>\n",
       "      <td>0.000000</td>\n",
       "      <td>0.000000</td>\n",
       "      <td>0.000000</td>\n",
       "      <td>0.000000</td>\n",
       "      <td>0.000000</td>\n",
       "      <td>...</td>\n",
       "      <td>0.000000</td>\n",
       "      <td>0.000000</td>\n",
       "      <td>0.000000</td>\n",
       "      <td>0.000000</td>\n",
       "      <td>0.000000</td>\n",
       "      <td>0.000000</td>\n",
       "      <td>0.000000</td>\n",
       "      <td>0.00000</td>\n",
       "      <td>0.000000</td>\n",
       "      <td>0.000000</td>\n",
       "    </tr>\n",
       "    <tr>\n",
       "      <th>25%</th>\n",
       "      <td>93526.750000</td>\n",
       "      <td>1.000000</td>\n",
       "      <td>5.000000</td>\n",
       "      <td>24.00000</td>\n",
       "      <td>10.000000</td>\n",
       "      <td>0.000000</td>\n",
       "      <td>0.000000</td>\n",
       "      <td>0.000000</td>\n",
       "      <td>0.000000</td>\n",
       "      <td>0.000000</td>\n",
       "      <td>...</td>\n",
       "      <td>0.000000</td>\n",
       "      <td>0.000000</td>\n",
       "      <td>0.000000</td>\n",
       "      <td>0.000000</td>\n",
       "      <td>0.000000</td>\n",
       "      <td>3.000000</td>\n",
       "      <td>0.000000</td>\n",
       "      <td>0.00000</td>\n",
       "      <td>0.000000</td>\n",
       "      <td>0.000000</td>\n",
       "    </tr>\n",
       "    <tr>\n",
       "      <th>50%</th>\n",
       "      <td>187193.500000</td>\n",
       "      <td>3.000000</td>\n",
       "      <td>14.000000</td>\n",
       "      <td>29.00000</td>\n",
       "      <td>18.000000</td>\n",
       "      <td>0.000000</td>\n",
       "      <td>0.000000</td>\n",
       "      <td>0.000000</td>\n",
       "      <td>0.000000</td>\n",
       "      <td>1.000000</td>\n",
       "      <td>...</td>\n",
       "      <td>0.000000</td>\n",
       "      <td>0.000000</td>\n",
       "      <td>0.000000</td>\n",
       "      <td>0.000000</td>\n",
       "      <td>0.000000</td>\n",
       "      <td>6.000000</td>\n",
       "      <td>0.000000</td>\n",
       "      <td>0.00000</td>\n",
       "      <td>0.000000</td>\n",
       "      <td>1.000000</td>\n",
       "    </tr>\n",
       "    <tr>\n",
       "      <th>75%</th>\n",
       "      <td>279984.250000</td>\n",
       "      <td>5.000000</td>\n",
       "      <td>19.000000</td>\n",
       "      <td>37.00000</td>\n",
       "      <td>28.000000</td>\n",
       "      <td>0.000000</td>\n",
       "      <td>0.000000</td>\n",
       "      <td>1.000000</td>\n",
       "      <td>0.000000</td>\n",
       "      <td>1.000000</td>\n",
       "      <td>...</td>\n",
       "      <td>0.000000</td>\n",
       "      <td>0.000000</td>\n",
       "      <td>0.000000</td>\n",
       "      <td>0.000000</td>\n",
       "      <td>0.000000</td>\n",
       "      <td>8.000000</td>\n",
       "      <td>0.000000</td>\n",
       "      <td>1.00000</td>\n",
       "      <td>0.000000</td>\n",
       "      <td>1.000000</td>\n",
       "    </tr>\n",
       "    <tr>\n",
       "      <th>max</th>\n",
       "      <td>373662.000000</td>\n",
       "      <td>6.000000</td>\n",
       "      <td>23.000000</td>\n",
       "      <td>101.00000</td>\n",
       "      <td>325.000000</td>\n",
       "      <td>1.000000</td>\n",
       "      <td>1.000000</td>\n",
       "      <td>1.000000</td>\n",
       "      <td>1.000000</td>\n",
       "      <td>1.000000</td>\n",
       "      <td>...</td>\n",
       "      <td>1.000000</td>\n",
       "      <td>1.000000</td>\n",
       "      <td>1.000000</td>\n",
       "      <td>1.000000</td>\n",
       "      <td>1.000000</td>\n",
       "      <td>35.000000</td>\n",
       "      <td>10.000000</td>\n",
       "      <td>5.00000</td>\n",
       "      <td>3.000000</td>\n",
       "      <td>3.000000</td>\n",
       "    </tr>\n",
       "  </tbody>\n",
       "</table>\n",
       "<p>8 rows × 54 columns</p>\n",
       "</div>"
      ],
      "text/plain": [
       "                user     dayofweek          hour          age    numscreens  \\\n",
       "count   50000.000000  50000.000000  50000.000000  50000.00000  50000.000000   \n",
       "mean   186889.729900      3.029860     12.557220     31.72436     21.095900   \n",
       "std    107768.520361      2.031997      7.438072     10.80331     15.728812   \n",
       "min        13.000000      0.000000      0.000000     16.00000      1.000000   \n",
       "25%     93526.750000      1.000000      5.000000     24.00000     10.000000   \n",
       "50%    187193.500000      3.000000     14.000000     29.00000     18.000000   \n",
       "75%    279984.250000      5.000000     19.000000     37.00000     28.000000   \n",
       "max    373662.000000      6.000000     23.000000    101.00000    325.000000   \n",
       "\n",
       "           minigame  used_premium_feature      enrolled         liked  \\\n",
       "count  50000.000000          50000.000000  50000.000000  50000.000000   \n",
       "mean       0.107820              0.172020      0.497000      0.165000   \n",
       "std        0.310156              0.377402      0.499996      0.371184   \n",
       "min        0.000000              0.000000      0.000000      0.000000   \n",
       "25%        0.000000              0.000000      0.000000      0.000000   \n",
       "50%        0.000000              0.000000      0.000000      0.000000   \n",
       "75%        0.000000              0.000000      1.000000      0.000000   \n",
       "max        1.000000              1.000000      1.000000      1.000000   \n",
       "\n",
       "              Loan2  ...         Loan4   ResendToken  TransactionList  \\\n",
       "count  50000.000000  ...  50000.000000  50000.000000     50000.000000   \n",
       "mean       0.506380  ...      0.016180      0.013340         0.013400   \n",
       "std        0.499964  ...      0.126169      0.114727         0.114981   \n",
       "min        0.000000  ...      0.000000      0.000000         0.000000   \n",
       "25%        0.000000  ...      0.000000      0.000000         0.000000   \n",
       "50%        1.000000  ...      0.000000      0.000000         0.000000   \n",
       "75%        1.000000  ...      0.000000      0.000000         0.000000   \n",
       "max        1.000000  ...      1.000000      1.000000         1.000000   \n",
       "\n",
       "       NetworkFailure    ListPicker         Other  SavingsCount      CMCount  \\\n",
       "count    50000.000000  50000.000000  50000.000000  50000.000000  50000.00000   \n",
       "mean         0.008200      0.007580      6.214260      0.365020      0.92776   \n",
       "std          0.090183      0.086733      3.672561      1.405511      1.21751   \n",
       "min          0.000000      0.000000      0.000000      0.000000      0.00000   \n",
       "25%          0.000000      0.000000      3.000000      0.000000      0.00000   \n",
       "50%          0.000000      0.000000      6.000000      0.000000      0.00000   \n",
       "75%          0.000000      0.000000      8.000000      0.000000      1.00000   \n",
       "max          1.000000      1.000000     35.000000     10.000000      5.00000   \n",
       "\n",
       "            CCCount    LoansCount  \n",
       "count  50000.000000  50000.000000  \n",
       "mean       0.176860      0.788400  \n",
       "std        0.612787      0.677462  \n",
       "min        0.000000      0.000000  \n",
       "25%        0.000000      0.000000  \n",
       "50%        0.000000      1.000000  \n",
       "75%        0.000000      1.000000  \n",
       "max        3.000000      3.000000  \n",
       "\n",
       "[8 rows x 54 columns]"
      ]
     },
     "execution_count": 39,
     "metadata": {},
     "output_type": "execute_result"
    }
   ],
   "source": [
    "#dataset statistics\n",
    "dataset.describe()"
   ]
  },
  {
   "cell_type": "code",
   "execution_count": 40,
   "id": "77d9d936",
   "metadata": {},
   "outputs": [],
   "source": [
    "#Saving the new dataset into csv format calling it new_app_data\n",
    "#dataset.to_csv('new_appdata101.csv', index = False)"
   ]
  },
  {
   "cell_type": "markdown",
   "id": "02f5b04c",
   "metadata": {},
   "source": [
    "### Data Pre-Processing"
   ]
  },
  {
   "cell_type": "code",
   "execution_count": 41,
   "id": "701f1d70",
   "metadata": {},
   "outputs": [],
   "source": [
    "#Split the response variable from the independent features\n",
    "\n",
    "response = dataset['enrolled']"
   ]
  },
  {
   "cell_type": "code",
   "execution_count": 42,
   "id": "4fcfe87c",
   "metadata": {},
   "outputs": [],
   "source": [
    "#Remove the response variable from the original data set\n",
    "dataset = dataset.drop(columns = 'enrolled')"
   ]
  },
  {
   "cell_type": "code",
   "execution_count": 43,
   "id": "456967df",
   "metadata": {},
   "outputs": [],
   "source": [
    "#Split the dataset\n",
    "from sklearn.model_selection import train_test_split"
   ]
  },
  {
   "cell_type": "code",
   "execution_count": 44,
   "id": "17c0bad6",
   "metadata": {},
   "outputs": [],
   "source": [
    "#create the train test split\n",
    "X_train, X_test, y_train, y_test = train_test_split(dataset, response, test_size = 0.2, random_state = 0)"
   ]
  },
  {
   "cell_type": "code",
   "execution_count": 45,
   "id": "8e3374b1",
   "metadata": {},
   "outputs": [],
   "source": [
    "#Save the user labels before dropping for model development\n",
    "#train identifier\n",
    "train_identifier = X_train['user']\n",
    "X_train = X_train.drop(columns = 'user')"
   ]
  },
  {
   "cell_type": "code",
   "execution_count": 46,
   "id": "5e2123a4",
   "metadata": {},
   "outputs": [],
   "source": [
    "#Test Identifier\n",
    "test_identifier = X_test['user']\n",
    "X_test = X_test.drop(columns = 'user')"
   ]
  },
  {
   "cell_type": "code",
   "execution_count": 47,
   "id": "30a25432",
   "metadata": {},
   "outputs": [],
   "source": [
    "#Now we need to scale the data\n",
    "from sklearn.preprocessing import StandardScaler"
   ]
  },
  {
   "cell_type": "code",
   "execution_count": 48,
   "id": "0c52b4f5",
   "metadata": {},
   "outputs": [],
   "source": [
    "sc_X = StandardScaler() #instantiate the standard scaler - returns a numpy array - loses the column names and the index\n",
    "\n",
    "X_train2 = pd.DataFrame(sc_X.fit_transform(X_train))"
   ]
  },
  {
   "cell_type": "code",
   "execution_count": 49,
   "id": "dbbad65b",
   "metadata": {},
   "outputs": [],
   "source": [
    "X_test2 = pd.DataFrame(sc_X.fit_transform(X_test))"
   ]
  },
  {
   "cell_type": "code",
   "execution_count": 50,
   "id": "b3967ae9",
   "metadata": {},
   "outputs": [],
   "source": [
    "X_train2.columns = X_train.columns.values #Map the columns to original values\n",
    "X_test2.columns = X_test.columns.values"
   ]
  },
  {
   "cell_type": "code",
   "execution_count": 51,
   "id": "cbf9fa28",
   "metadata": {},
   "outputs": [],
   "source": [
    "#Bring in the indexes\n",
    "X_train2.index = X_train.index.values\n",
    "X_test2.index = X_test.index.values"
   ]
  },
  {
   "cell_type": "code",
   "execution_count": 52,
   "id": "e5ec6148",
   "metadata": {},
   "outputs": [],
   "source": [
    "#now bring in the labels to the original training set\n",
    "X_train = X_train2\n",
    "X_test = X_test2"
   ]
  },
  {
   "cell_type": "markdown",
   "id": "328dc4a1",
   "metadata": {},
   "source": [
    "### Model Development"
   ]
  },
  {
   "cell_type": "code",
   "execution_count": 53,
   "id": "1e9c5fea",
   "metadata": {},
   "outputs": [],
   "source": [
    "from sklearn.linear_model import LogisticRegression"
   ]
  },
  {
   "cell_type": "code",
   "execution_count": 55,
   "id": "09d5c882",
   "metadata": {},
   "outputs": [
    {
     "data": {
      "text/plain": [
       "LogisticRegression(random_state=0)"
      ]
     },
     "execution_count": 55,
     "metadata": {},
     "output_type": "execute_result"
    }
   ],
   "source": [
    "classifier = LogisticRegression(random_state = 0) \n",
    "#L1 is going to change the model from logistic regression to L1 regularization to avoid multicollinearity issues\n",
    "# L1 Lasso Regularization penalizes any particular field that's strongly correlated to the response variable\n",
    "#fit to the training set\n",
    "classifier.fit(X_train, y_train)"
   ]
  },
  {
   "cell_type": "code",
   "execution_count": 56,
   "id": "f6213613",
   "metadata": {},
   "outputs": [],
   "source": [
    "y_pred = classifier.predict(X_test) #Predictions"
   ]
  },
  {
   "cell_type": "code",
   "execution_count": 58,
   "id": "ea1bb7ba",
   "metadata": {},
   "outputs": [],
   "source": [
    "#Evalulation\n",
    "from sklearn.metrics import confusion_matrix, accuracy_score, f1_score, precision_score, recall_score"
   ]
  },
  {
   "cell_type": "code",
   "execution_count": 59,
   "id": "cc83fed1",
   "metadata": {},
   "outputs": [
    {
     "data": {
      "text/plain": [
       "0.7664"
      ]
     },
     "execution_count": 59,
     "metadata": {},
     "output_type": "execute_result"
    }
   ],
   "source": [
    "cm = confusion_matrix(y_test, y_pred)\n",
    "accuracy_score(y_test, y_pred)"
   ]
  },
  {
   "cell_type": "code",
   "execution_count": 60,
   "id": "12e02dfc",
   "metadata": {},
   "outputs": [
    {
     "data": {
      "text/plain": [
       "0.7594075260208166"
      ]
     },
     "execution_count": 60,
     "metadata": {},
     "output_type": "execute_result"
    }
   ],
   "source": [
    "#Precision\n",
    "precision_score(y_test, y_pred)"
   ]
  },
  {
   "cell_type": "code",
   "execution_count": 61,
   "id": "73a588c2",
   "metadata": {},
   "outputs": [
    {
     "data": {
      "text/plain": [
       "0.7698863636363636"
      ]
     },
     "execution_count": 61,
     "metadata": {},
     "output_type": "execute_result"
    }
   ],
   "source": [
    "#Recall\n",
    "recall_score(y_test, y_pred)"
   ]
  },
  {
   "cell_type": "code",
   "execution_count": 62,
   "id": "d73bafe6",
   "metadata": {},
   "outputs": [
    {
     "data": {
      "text/plain": [
       "0.7646110439338976"
      ]
     },
     "execution_count": 62,
     "metadata": {},
     "output_type": "execute_result"
    }
   ],
   "source": [
    "#F1 Score - Function of recall and precision\n",
    "f1_score(y_test, y_pred)"
   ]
  },
  {
   "cell_type": "code",
   "execution_count": 65,
   "id": "d96d6968",
   "metadata": {},
   "outputs": [
    {
     "name": "stdout",
     "output_type": "stream",
     "text": [
      "Test Data Accuracy: 0.7664\n"
     ]
    },
    {
     "data": {
      "image/png": "[encoded data removed]",
      "text/plain": [
       "<Figure size 720x504 with 2 Axes>"
      ]
     },
     "metadata": {},
     "output_type": "display_data"
    }
   ],
   "source": [
    "#Let's plot the confusion matrix\n",
    "df_cm = pd.DataFrame(cm, index = (0, 1), columns = (0, 1))\n",
    "plt.figure(figsize = (10, 7))\n",
    "sns.set(font_scale = 1.4)\n",
    "sns.heatmap(df_cm, annot = True, fmt = 'g')\n",
    "print(\"Test Data Accuracy: %0.4f\"% accuracy_score(y_test, y_pred))\n",
    "plt.show()"
   ]
  },
  {
   "cell_type": "markdown",
   "id": "8693c7fd",
   "metadata": {},
   "source": [
    "### K Fold Cross-validation"
   ]
  },
  {
   "cell_type": "code",
   "execution_count": 66,
   "id": "f13b08df",
   "metadata": {},
   "outputs": [],
   "source": [
    "from sklearn.model_selection import cross_val_score"
   ]
  },
  {
   "cell_type": "code",
   "execution_count": 67,
   "id": "bd287e88",
   "metadata": {},
   "outputs": [],
   "source": [
    "accuracies = cross_val_score(estimator = classifier, X = X_train, y = y_train, cv = 10 )"
   ]
  },
  {
   "cell_type": "code",
   "execution_count": 69,
   "id": "c5e26b29",
   "metadata": {},
   "outputs": [
    {
     "name": "stdout",
     "output_type": "stream",
     "text": [
      "Logistic Accuracy: 0.768(+/- 0.009)\n"
     ]
    }
   ],
   "source": [
    "print(\"Logistic Accuracy: %0.3f(+/- %0.3f)\" % (accuracies.mean(), accuracies.std()*2))"
   ]
  },
  {
   "cell_type": "markdown",
   "id": "7590251e",
   "metadata": {},
   "source": [
    "The model is very consistent when it comes to accuracy"
   ]
  },
  {
   "cell_type": "markdown",
   "id": "86335048",
   "metadata": {},
   "source": [
    "### Conclusion"
   ]
  },
  {
   "cell_type": "code",
   "execution_count": 70,
   "id": "ac90d608",
   "metadata": {},
   "outputs": [],
   "source": [
    "#Formatting the final results\n",
    "final_results = pd.concat([y_test, test_identifier], axis = 1).dropna()"
   ]
  },
  {
   "cell_type": "code",
   "execution_count": 71,
   "id": "c95f511f",
   "metadata": {},
   "outputs": [],
   "source": [
    "#Create a column with the predicted results\n",
    "final_results['predicted_results'] = y_pred"
   ]
  },
  {
   "cell_type": "code",
   "execution_count": 72,
   "id": "be65b2fa",
   "metadata": {},
   "outputs": [
    {
     "data": {
      "text/html": [
       "<div>\n",
       "<style scoped>\n",
       "    .dataframe tbody tr th:only-of-type {\n",
       "        vertical-align: middle;\n",
       "    }\n",
       "\n",
       "    .dataframe tbody tr th {\n",
       "        vertical-align: top;\n",
       "    }\n",
       "\n",
       "    .dataframe thead th {\n",
       "        text-align: right;\n",
       "    }\n",
       "</style>\n",
       "<table border=\"1\" class=\"dataframe\">\n",
       "  <thead>\n",
       "    <tr style=\"text-align: right;\">\n",
       "      <th></th>\n",
       "      <th>user</th>\n",
       "      <th>enrolled</th>\n",
       "      <th>predicted_results</th>\n",
       "    </tr>\n",
       "  </thead>\n",
       "  <tbody>\n",
       "    <tr>\n",
       "      <th>0</th>\n",
       "      <td>239786</td>\n",
       "      <td>1</td>\n",
       "      <td>1</td>\n",
       "    </tr>\n",
       "    <tr>\n",
       "      <th>1</th>\n",
       "      <td>279644</td>\n",
       "      <td>1</td>\n",
       "      <td>1</td>\n",
       "    </tr>\n",
       "    <tr>\n",
       "      <th>2</th>\n",
       "      <td>98290</td>\n",
       "      <td>0</td>\n",
       "      <td>0</td>\n",
       "    </tr>\n",
       "    <tr>\n",
       "      <th>3</th>\n",
       "      <td>170150</td>\n",
       "      <td>1</td>\n",
       "      <td>1</td>\n",
       "    </tr>\n",
       "    <tr>\n",
       "      <th>4</th>\n",
       "      <td>237568</td>\n",
       "      <td>1</td>\n",
       "      <td>1</td>\n",
       "    </tr>\n",
       "    <tr>\n",
       "      <th>...</th>\n",
       "      <td>...</td>\n",
       "      <td>...</td>\n",
       "      <td>...</td>\n",
       "    </tr>\n",
       "    <tr>\n",
       "      <th>9995</th>\n",
       "      <td>143036</td>\n",
       "      <td>1</td>\n",
       "      <td>0</td>\n",
       "    </tr>\n",
       "    <tr>\n",
       "      <th>9996</th>\n",
       "      <td>91158</td>\n",
       "      <td>1</td>\n",
       "      <td>1</td>\n",
       "    </tr>\n",
       "    <tr>\n",
       "      <th>9997</th>\n",
       "      <td>248318</td>\n",
       "      <td>0</td>\n",
       "      <td>0</td>\n",
       "    </tr>\n",
       "    <tr>\n",
       "      <th>9998</th>\n",
       "      <td>142418</td>\n",
       "      <td>1</td>\n",
       "      <td>1</td>\n",
       "    </tr>\n",
       "    <tr>\n",
       "      <th>9999</th>\n",
       "      <td>279355</td>\n",
       "      <td>1</td>\n",
       "      <td>0</td>\n",
       "    </tr>\n",
       "  </tbody>\n",
       "</table>\n",
       "<p>10000 rows × 3 columns</p>\n",
       "</div>"
      ],
      "text/plain": [
       "        user  enrolled  predicted_results\n",
       "0     239786         1                  1\n",
       "1     279644         1                  1\n",
       "2      98290         0                  0\n",
       "3     170150         1                  1\n",
       "4     237568         1                  1\n",
       "...      ...       ...                ...\n",
       "9995  143036         1                  0\n",
       "9996   91158         1                  1\n",
       "9997  248318         0                  0\n",
       "9998  142418         1                  1\n",
       "9999  279355         1                  0\n",
       "\n",
       "[10000 rows x 3 columns]"
      ]
     },
     "execution_count": 72,
     "metadata": {},
     "output_type": "execute_result"
    }
   ],
   "source": [
    "#Create a cleaner version\n",
    "final_results[['user', 'enrolled', 'predicted_results']].reset_index(drop = True)"
   ]
  },
  {
   "cell_type": "markdown",
   "id": "911803a3",
   "metadata": {},
   "source": [
    "This is the way to map the predictions back to the users. "
   ]
  },
  {
   "cell_type": "code",
   "execution_count": null,
   "id": "5baca6d8",
   "metadata": {},
   "outputs": [],
   "source": []
  }
 ],
 "metadata": {
  "kernelspec": {
   "display_name": "Python 3 (ipykernel)",
   "language": "python",
   "name": "python3"
  },
  "language_info": {
   "codemirror_mode": {
    "name": "ipython",
    "version": 3
   },
   "file_extension": ".py",
   "mimetype": "text/x-python",
   "name": "python",
   "nbconvert_exporter": "python",
   "pygments_lexer": "ipython3",
   "version": "3.9.7"
  }
 },
 "nbformat": 4,
 "nbformat_minor": 5
}
